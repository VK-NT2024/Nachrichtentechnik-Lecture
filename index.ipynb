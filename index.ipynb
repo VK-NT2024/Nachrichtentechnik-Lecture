{
 "cells": [
  {
   "cell_type": "markdown",
   "metadata": {
    "nbsphinx": "hidden"
   },
   "source": [
    "# Nachrichtentechnik\n",
    "\n",
    "Diese Sammlung von [jupyter](https://jupyter.org/)-Notebooks enthält Beispiele für verschiedene Themen für die Grundlagen der Nachrichtentechnik. Die theoretischen Ergebbnisse werden kurz zusammengefasst und dann mit numerischen Beispielen in [IPython 3](http://ipython.org/) anschaulich erläutert. Die Notebooks behandeln Themen aus dem Bachelor-Modul Nachrichtentechnik von Prof. Volker Kühn, Institut für Nachrichtentechnik, Universität Rostock. Für detaillierte Informationen zu bestimmten Themen sei auf die Vorlesung und die empfohlene Literatur verwiesen. "
   ]
  },
  {
   "cell_type": "markdown",
   "metadata": {
    "nbsphinx-toctree": {
     "maxdepth": 3,
     "numbered": true
    }
   },
   "source": [
    "## Verzeichnisse\n",
    "\n",
    "1. [Part 2: Quellencodierung](Part2-SourceCoding/index.ipynb)\n",
    "2. [Part 3: Signale und Systeme (Modulationsverfahren)](Part3-SignalsSystems/index.ipynb)\n",
    "3. [Part 4: Kanalmodelle](Part4-Channels/index.ipynb)\n",
    "4. [Part 5: Entscheidungstheorie](Part5-DecisionTheory/index.ipynb)"
   ]
  },
  {
   "cell_type": "markdown",
   "metadata": {},
   "source": [
    "## Literature\n",
    "\n",
    "The contents base on the following literature:\n",
    "\n",
    "* Vorlesungsfolien stehen über StudIP zur Verfügung\n",
    "* Kammeyer, Dekorsy: Nachrichtenübertragung, Springer-Vieweg, 2017\n",
    "* Bossert: Einführung in die Nachrichtentechnik, Oldenbourg-Verlag, 2012\n",
    "* Höher: Grundlagen der digitalen Informationsübertragung, Springer Vieweg, 2013\n",
    "* Sklar: Digital Communications – Fundamentals and Applications, Prentice-Hall 2001\n",
    "* Goldsmith: Wireless Communications, Cambridge University Press 2005\n",
    "* Tse, Viswanath: Fundamentals of Wireless Communications, Cambridge University Press, 2005\n",
    "* Cover, Thomas: Elements of Information Theory\n"
   ]
  },
  {
   "cell_type": "markdown",
   "metadata": {},
   "source": [
    "## Autoren\n",
    "\n",
    "* Volker Kühn (author)\n",
    "* Ahmed Alaa Ahmed Alkishki (implementation of ECC library, code review)"
   ]
  },
  {
   "cell_type": "markdown",
   "metadata": {},
   "source": [
    "**Copyright**\n",
    "\n",
    "The notebooks are provided as [Open Educational Resources](https://en.wikipedia.org/wiki/Open_educational_resources). Feel free to use the notebooks for your own purposes. The text is licensed under [Creative Commons Attribution 4.0](https://creativecommons.org/licenses/by/4.0/), the code of the IPython examples under the [MIT license](https://opensource.org/licenses/MIT). Please attribute the work as follows: *Sascha Spors, Digital Signal Processing - Lecture notes featuring computational examples*."
   ]
  }
 ],
 "metadata": {
  "anaconda-cloud": {},
  "kernelspec": {
   "display_name": "Python 3 (ipykernel)",
   "language": "python",
   "name": "python3"
  },
  "language_info": {
   "codemirror_mode": {
    "name": "ipython",
    "version": 3
   },
   "file_extension": ".py",
   "mimetype": "text/x-python",
   "name": "python",
   "nbconvert_exporter": "python",
   "pygments_lexer": "ipython3",
   "version": "3.9.18"
  }
 },
 "nbformat": 4,
 "nbformat_minor": 4
}
