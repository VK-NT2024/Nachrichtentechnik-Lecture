{
 "cells": [
  {
   "cell_type": "markdown",
   "metadata": {},
   "source": [
    "# Vektor-Kompression"
   ]
  },
  {
   "cell_type": "markdown",
   "metadata": {},
   "source": [
    "## Grundlagen "
   ]
  },
  {
   "cell_type": "markdown",
   "metadata": {},
   "source": [
    "Wir betrachten im Folgenden einen Prozess $\\cal X$ mit der Ereignismenge $\\mathbb{X}$. Die Ereignisse treten mit den Wahrscheinlichkeiten $\\Pr \\{ X_{\\mu} \\}$ auf. Der Prozess erzeugt zu den Zeitpunkten $i T_{\\mathrm{s}}$ statistisch unabhängige Symbole $x[i]$. \n",
    "\n",
    "Anstatt jedes Symbol eines Zufallsprozesses einzeln zu komprimieren (Single Letter Compression), kann man auch Tupel von mehreren Symbolen bilden und diese gemeinsam codieren. Diesen Prozess nennt man Vektor-Kompression. Ein Tupel bzw. Vektor\n",
    "\n",
    "\\begin{equation}\n",
    "    \\mathbf{x}[k] = \\big[ x[kn] \\ \\cdots \\ x[(k+1)n-1] \\big] \\; ,\n",
    "\\end{equation}\n",
    "\n",
    "der Länge $n$ kann \"Werte\" aus der Menge ${\\mathbb{X}}^n$ annehmen. Aufgrund der statistischen Unabhängigkeit der Symbole lauten die Auftrittswahrscheinlichkeiten der Tupel\n",
    "\n",
    "\\begin{equation}\n",
    "   \\Pr \\{ \\mathbf{x}[k] \\} = \\prod_{i=0}^{n-1} \\Pr \\{ {\\cal X} = x[kn+i] \\} \\; .\n",
    "\\end{equation}\n",
    "\n",
    "Somit addieren sich auch die symbolweisen Entropien zur vektorweisen Entropie und es gilt\n",
    "\n",
    "\\begin{align}\n",
    "   H(\\underline{\\cal X})\n",
    "    &= - \\sum_{\\mathbf{x} \\in \\mathbb{X}^n} \\Pr \\{ \\underline{\\cal X}=\\mathbf{x} \\} \\cdot \\log_2 \\Pr \\{ \\underline{\\cal X}=\\mathbf{x} \\} \\\\\n",
    "    &= - \\sum_{x_0 \\in \\mathbb{X}}  \\cdots \\sum_{x_{n-1} \\in \\mathbb{X}} \\prod_{i=0}^{n-1} \\Pr \\{ {\\cal X}=x_i \\} \\cdot \\sum_{i=0}^{n-1} \\log_2 \\Pr \\{ {\\cal X}=x_i \\} \\\\\n",
    "    &= - \\sum_{i=0}^{n-1} \\sum_{x_i \\in \\mathbb{X}}  \\Pr \\{ {\\cal X}=x_i \\} \\cdot \\log_2 \\Pr \\{ {\\cal X}=x_i \\} \\\\\n",
    "    &= \\sum_{i=0}^{n-1} H({\\cal X}) = n H({\\cal X})\n",
    "\\end{align}\n",
    "\n",
    "Für eine einzelne Zufallsvariable gilt folglich\n",
    "\n",
    "\\begin{align}\n",
    "   H({\\cal X}) \n",
    "   &= \\frac{H(\\underline{\\cal X})}{n} \\; .\n",
    "\\end{align}\n",
    "\n",
    "Im Folgenden der Einfluss der Vektorisierung auf die Huffman-Codierung untersucht."
   ]
  },
  {
   "cell_type": "code",
   "execution_count": 1,
   "metadata": {},
   "outputs": [],
   "source": [
    "import numpy as np\n",
    "import matplotlib.pyplot as plt\n",
    "from heapq import heappush, heappop, heapify\n",
    "\n",
    "def encode(symb2freq):\n",
    "    \"\"\"Huffman encoder given a dictionary with symbols and probabilities\"\"\"\n",
    "    heap = [[wt, [sym, \"\"]] for sym, wt in symb2freq.items()]\n",
    "    heapify(heap)\n",
    "    while len(heap) > 1:\n",
    "        lo = heappop(heap)\n",
    "        hi = heappop(heap)\n",
    "        for pair in lo[1:]:\n",
    "            pair[1] = '0' + pair[1]\n",
    "        for pair in hi[1:]:\n",
    "            pair[1] = '1' + pair[1]\n",
    "        heappush(heap, [lo[0] + hi[0]] + lo[1:] + hi[1:])\n",
    "    return sorted(heappop(heap)[1:], key=lambda p: (len(p[-1]), p))\n",
    "\n",
    "\n",
    "def average_wordlength(code,prob):\n",
    "    \"\"\"computes average word length of code given the codeword and their probabilities\n",
    "        order of codewords and probabilities might differ due to Huffman coding !!!\n",
    "    \"\"\"\n",
    "    averagewordlength = 0.0\n",
    "    for p in code:\n",
    "        averagewordlength += len(p[1]) * prob[p[0]]\n",
    "\n",
    "    return averagewordlength\n"
   ]
  },
  {
   "cell_type": "markdown",
   "metadata": {},
   "source": [
    "## Statistik des Prozesses und Berechnung der Entropie"
   ]
  },
  {
   "cell_type": "code",
   "execution_count": 2,
   "metadata": {},
   "outputs": [
    {
     "name": "stdout",
     "output_type": "stream",
     "text": [
      "Die symbolweise Information der Ereignisse lauten [3.32192809 2.32192809 1.73696559 1.32192809] bit. \n",
      "\n",
      "Die Entropie des Zufallsprozesses beträgt 1.84644 bit.\n",
      "\n"
     ]
    }
   ],
   "source": [
    "# Definition der Wahrscheinlichkeiten\n",
    "Pr = np.array([0.1, 0.2, 0.3, 0.4])\n",
    "#Pr = np.array([0.4, 0.3, 0.3])\n",
    "\n",
    "# Berechnung der symbolweisen Information\n",
    "H_Xi = - np.log2(Pr)\n",
    "print(\"Die symbolweise Information der Ereignisse lauten\",H_Xi,\"bit. \\n\")\n",
    "\n",
    "# Berechnung der Entropie\n",
    "H_X = np.inner(Pr,H_Xi)\n",
    "print(\"Die Entropie des Zufallsprozesses beträgt %g bit.\\n\" % (H_X))"
   ]
  },
  {
   "cell_type": "markdown",
   "metadata": {},
   "source": [
    "## Statistik der Vektoren / Tupel unterschiedlicher Länge"
   ]
  },
  {
   "cell_type": "code",
   "execution_count": 16,
   "metadata": {},
   "outputs": [
    {
     "data": {
      "text/plain": [
       "[<matplotlib.lines.Line2D at 0x7fb8905e4d00>]"
      ]
     },
     "execution_count": 16,
     "metadata": {},
     "output_type": "execute_result"
    },
    {
     "data": {
      "image/png": "[encoded data removed]",
      "text/plain": [
       "<Figure size 504x504 with 4 Axes>"
      ]
     },
     "metadata": {
      "needs_background": "light"
     },
     "output_type": "display_data"
    }
   ],
   "source": [
    "# Betrachtung von Zweier-Tupeln\n",
    "Pr2 = np.outer(Pr,Pr).reshape(Pr.shape[0]**2,1)\n",
    "Pr2 = np.sort(Pr2[:,0])\n",
    "\n",
    "# Betrachtung von Dreier-Tupeln\n",
    "Pr3 = np.outer(Pr2,Pr).reshape(Pr2.shape[0]*Pr.shape[0],1)\n",
    "Pr3 = np.sort(Pr3[:,0])\n",
    "\n",
    "# Betrachtung von Vierer-Tupeln\n",
    "Pr4 = np.outer(Pr2,Pr2).reshape(Pr2.shape[0]**2,1)\n",
    "Pr4 = np.sort(Pr4[:,0])\n",
    "\n",
    "# Betrachtung von Fünfer-Tupeln\n",
    "Pr5 = np.outer(Pr4,Pr).reshape(Pr4.shape[0]*Pr.shape[0],1)\n",
    "Pr5 = np.sort(Pr5[:,0])\n",
    "\n",
    "# Betrachtung von Sechser-Tupeln\n",
    "Pr6 = np.outer(Pr3,Pr3).reshape(Pr3.shape[0]**2,1)\n",
    "Pr6 = np.sort(Pr6[:,0])\n",
    "\n",
    "# Betrachtung von Siebener-Tupeln\n",
    "Pr7 = np.outer(Pr6,Pr).reshape(Pr6.shape[0]*Pr.shape[0],1)\n",
    "Pr7 = np.sort(Pr7[:,0])\n",
    "\n",
    "# Betrachtung von Achter-Tupeln\n",
    "Pr8 = np.outer(Pr4,Pr4).reshape(Pr4.shape[0]**2,1)\n",
    "Pr8 = np.sort(Pr8[:,0])\n",
    "\n",
    "fig1 = plt.figure(figsize=(7,7))\n",
    "plt.subplots_adjust(hspace=0.3)\n",
    "\n",
    "ax1a = fig1.add_subplot(411)\n",
    "ax1a.bar(np.arange(Pr.shape[0]),Pr,width=0.8)\n",
    "\n",
    "ax1b = fig1.add_subplot(412)\n",
    "ax1b.bar(np.arange(Pr2.shape[0]),Pr2,width=0.8)\n",
    "\n",
    "ax1c = fig1.add_subplot(413)\n",
    "ax1c.bar(np.arange(Pr3.shape[0]),Pr3,width=0.8)\n",
    "\n",
    "ax1d = fig1.add_subplot(414)\n",
    "ax1d.plot(np.arange(Pr4.shape[0]),Pr4)\n"
   ]
  },
  {
   "cell_type": "markdown",
   "metadata": {},
   "source": [
    "## Huffman-Codierung für verschiedene Vektorlängen"
   ]
  },
  {
   "cell_type": "code",
   "execution_count": 4,
   "metadata": {},
   "outputs": [
    {
     "name": "stdout",
     "output_type": "stream",
     "text": [
      "Die mittlere Wortlänge des Huffman-Codes beträgt 1.9 bit pro Symbol.\n",
      "\n",
      "Die mittlere Wortlänge des Huffman-Codes für Zweiertupel beträgt 1.865 bit pro Symbol.\n",
      "\n",
      "Die mittlere Wortlänge des Huffman-Codes für Dreiertupel beträgt 1.859 bit pro Symbol.\n",
      "\n",
      "Die mittlere Wortlänge des Huffman-Codes für Vierertupel beträgt 1.85323 bit pro Symbol.\n",
      "\n",
      "Die mittlere Wortlänge des Huffman-Codes für Fünfertupel beträgt 1.85347 bit pro Symbol.\n",
      "\n",
      "Die mittlere Wortlänge des Huffman-Codes für Sechsertupel beträgt 1.85143 bit pro Symbol.\n",
      "\n",
      "Die mittlere Wortlänge des Huffman-Codes für Siebenertupel beträgt 1.85111 bit pro Symbol.\n",
      "\n",
      "Die mittlere Wortlänge des Huffman-Codes für Achtertupel beträgt 1.85065 bit pro Symbol.\n",
      "\n"
     ]
    }
   ],
   "source": [
    "averageLengthHuffmanCode = np.zeros(8)\n",
    "\n",
    "# Generiere Dictionary mit Symbolen und ihren Auftrittswahrscheinlichkeiten\n",
    "symbol_count1 = {a:b for a,b in zip(np.arange(len(Pr)),Pr)}\n",
    "# Rufe Routine für Huffman-Codierung auf\n",
    "huff1 = encode(symbol_count1)\n",
    "averageLengthHuffmanCode[0] = average_wordlength(huff1,symbol_count1)\n",
    "print(\"Die mittlere Wortlänge des Huffman-Codes beträgt %g bit pro Symbol.\\n\" % (averageLengthHuffmanCode[0]))\n",
    "\n",
    "\n",
    "# Generiere Dictionary  mit Zweiertupeln und ihren Auftrittswahrscheinlichkeiten\n",
    "symbol_count2 = {a:b for a,b in zip(np.arange(len(Pr2)),Pr2)}\n",
    "# Rufe Routine für Huffman-Codierung auf\n",
    "huff2 = encode(symbol_count2)\n",
    "averageLengthHuffmanCode[1] = average_wordlength(huff2,symbol_count2) / 2\n",
    "print(\"Die mittlere Wortlänge des Huffman-Codes für Zweiertupel beträgt %g bit pro Symbol.\\n\" % (averageLengthHuffmanCode[1]))\n",
    "\n",
    "\n",
    "# Generiere Dictionary  mit Dreiertupeln und ihren Auftrittswahrscheinlichkeiten\n",
    "symbol_count3 = {a:b for a,b in zip(np.arange(len(Pr3)),Pr3)}\n",
    "# Rufe Routine für Huffman-Codierung auf\n",
    "huff3 = encode(symbol_count3)\n",
    "averageLengthHuffmanCode[2] = average_wordlength(huff3,symbol_count3) / 3\n",
    "print(\"Die mittlere Wortlänge des Huffman-Codes für Dreiertupel beträgt %g bit pro Symbol.\\n\" % (averageLengthHuffmanCode[2]))\n",
    "\n",
    "\n",
    "# Generiere Liste mit Vierertupeln und ihren Auftrittswahrscheinlichkeiten\n",
    "symbol_count4 = {a:b for a,b in zip(np.arange(len(Pr4)),Pr4)}\n",
    "# Rufe Routine für Huffman-Codierung auf\n",
    "huff4 = encode(symbol_count4)\n",
    "averageLengthHuffmanCode[3] = average_wordlength(huff4,symbol_count4) / 4\n",
    "print(\"Die mittlere Wortlänge des Huffman-Codes für Vierertupel beträgt %g bit pro Symbol.\\n\" % (averageLengthHuffmanCode[3]))\n",
    "\n",
    "\n",
    "# Generiere Dictionary  mit Fünfertupeln und ihren Auftrittswahrscheinlichkeiten\n",
    "symbol_count5 = {a:b for a,b in zip(np.arange(len(Pr5)),Pr5)}\n",
    "# Rufe Routine für Huffman-Codierung auf\n",
    "huff5 = encode(symbol_count5)\n",
    "averageLengthHuffmanCode[4] = average_wordlength(huff5,symbol_count5) / 5\n",
    "print(\"Die mittlere Wortlänge des Huffman-Codes für Fünfertupel beträgt %g bit pro Symbol.\\n\" % (averageLengthHuffmanCode[4]))\n",
    "\n",
    "\n",
    "# Generiere Dictionary  mit Sechsertupeln und ihren Auftrittswahrscheinlichkeiten\n",
    "symbol_count6 = {a:b for a,b in zip(np.arange(len(Pr6)),Pr6)}\n",
    "# Rufe Routine für Huffman-Codierung auf\n",
    "huff6 = encode(symbol_count6)\n",
    "averageLengthHuffmanCode[5] = average_wordlength(huff6,symbol_count6) / 6\n",
    "print(\"Die mittlere Wortlänge des Huffman-Codes für Sechsertupel beträgt %g bit pro Symbol.\\n\" % (averageLengthHuffmanCode[5]))\n",
    "\n",
    "\n",
    "# Generiere Dictionary  mit Siebenertupeln und ihren Auftrittswahrscheinlichkeiten\n",
    "symbol_count7 = {a:b for a,b in zip(np.arange(len(Pr7)),Pr7)}\n",
    "# Rufe Routine für Huffman-Codierung auf\n",
    "huff7 = encode(symbol_count7)\n",
    "averageLengthHuffmanCode[6] = average_wordlength(huff7,symbol_count7) / 7\n",
    "print(\"Die mittlere Wortlänge des Huffman-Codes für Siebenertupel beträgt %g bit pro Symbol.\\n\" % (averageLengthHuffmanCode[6]))\n",
    "\n",
    "\n",
    "# Generiere Liste mit Achtertupeln und ihren Auftrittswahrscheinlichkeiten\n",
    "symbol_count8 = {a:b for a,b in zip(np.arange(len(Pr8)),Pr8)}\n",
    "# Rufe Routine für Huffman-Codierung auf\n",
    "huff8 = encode(symbol_count8)\n",
    "averageLengthHuffmanCode[7] = average_wordlength(huff8,symbol_count8) / 8\n",
    "print(\"Die mittlere Wortlänge des Huffman-Codes für Achtertupel beträgt %g bit pro Symbol.\\n\" % (averageLengthHuffmanCode[7]))\n"
   ]
  },
  {
   "cell_type": "markdown",
   "metadata": {},
   "source": [
    "## Berechnung der Redundanz"
   ]
  },
  {
   "cell_type": "code",
   "execution_count": 5,
   "metadata": {},
   "outputs": [
    {
     "data": {
      "text/plain": [
       "Text(0.5, 1.0, 'Redundanz in %')"
      ]
     },
     "execution_count": 5,
     "metadata": {},
     "output_type": "execute_result"
    },
    {
     "data": {
      "image/png": "[encoded data removed]",
      "text/plain": [
       "<Figure size 504x288 with 1 Axes>"
      ]
     },
     "metadata": {
      "needs_background": "light"
     },
     "output_type": "display_data"
    }
   ],
   "source": [
    "redundancy = (averageLengthHuffmanCode - H_X) / averageLengthHuffmanCode\n",
    "\n",
    "fig2 = plt.figure(figsize=(7,4))\n",
    "ax2 = fig2.add_subplot(111)\n",
    "ax2.bar(np.arange(len(redundancy)),redundancy*100,width=0.8)\n",
    "plt.xlabel('$n$')\n",
    "plt.ylabel('$r$')\n",
    "plt.grid()\n",
    "plt.title('Redundanz in %')"
   ]
  },
  {
   "cell_type": "markdown",
   "metadata": {},
   "source": [
    "Dem obigen Bild ist deutlich zu entnehmen, dass die Effizienz der Huffman-Codierung durch die Vektorbildung zunimmt, die nach der Kompression verbleibende Redundanz wird immer kleiner. Allerdings ist kein monotoner Abfall zu beobachten, da für $n=4$ ein kleiner Anstieg gegenüber $n=3$ zu beobachten ist."
   ]
  },
  {
   "cell_type": "code",
   "execution_count": 6,
   "metadata": {},
   "outputs": [
    {
     "name": "stdout",
     "output_type": "stream",
     "text": [
      "Symbol\tGewicht\tHuffman Code\n",
      "12\t0.09\t000\n",
      "13\t0.12\t011\n",
      "14\t0.12\t100\n",
      "15\t0.16\t111\n",
      "7\t0.04\t0010\n",
      "8\t0.06\t0100\n",
      "9\t0.06\t0101\n",
      "10\t0.08\t1100\n",
      "11\t0.08\t1101\n",
      "2\t0.02\t00110\n",
      "3\t0.03\t00111\n",
      "4\t0.03\t10100\n",
      "5\t0.04\t10110\n",
      "6\t0.04\t10111\n",
      "0\t0.01\t101010\n",
      "1\t0.02\t101011\n"
     ]
    }
   ],
   "source": [
    "# Drucke Ergebnis\n",
    "print(\"Symbol\\tGewicht\\tHuffman Code\")\n",
    "code_len = np.zeros(len(symbol_count2))\n",
    "cntr = 0\n",
    "for p in huff2:\n",
    "    print(\"%s\\t%4.2f\\t%s\" % (p[0], symbol_count2[p[0]], p[1]))\n",
    "    code_len[cntr] = len(p[1])\n",
    "    cntr +=1"
   ]
  }
 ],
 "metadata": {
  "kernelspec": {
   "display_name": "Python 3 (ipykernel)",
   "language": "python",
   "name": "python3"
  },
  "language_info": {
   "codemirror_mode": {
    "name": "ipython",
    "version": 3
   },
   "file_extension": ".py",
   "mimetype": "text/x-python",
   "name": "python",
   "nbconvert_exporter": "python",
   "pygments_lexer": "ipython3",
   "version": "3.9.7"
  }
 },
 "nbformat": 4,
 "nbformat_minor": 2
}
