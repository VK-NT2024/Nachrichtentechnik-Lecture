{
 "cells": [
  {
   "cell_type": "markdown",
   "metadata": {},
   "source": [
    "# Morse-Code"
   ]
  },
  {
   "cell_type": "markdown",
   "metadata": {},
   "source": [
    "## Grundlagen der Codierung nach Morse"
   ]
  },
  {
   "cell_type": "markdown",
   "metadata": {},
   "source": [
    "Der Morse-Code ist ein ternärer Code bestehend aus den drei Zeichen 'Punkt', 'Strich' und 'Pause', mit dem Samuel Finley Breese Morse Text codiert hat. Dabei werden Buchstaben nur mit den beiden Zeichen 'Punkt' und 'Strich' codiert, die 'Pause' dient zur Trennung der Buchstaben. Ziel war es, Text in eine möglichst kurze Zeichenfolge zu übersetzen, um sie effizient per Telegramm übertragen zu können. Dazu nutzte Morse die Auftrittswahrscheinlichkeit einzelner Buchstaben aus. Die deutsche und die englische Sprache bestehen im Wesentlichen aus 26 Buchstaben 'A' bis 'Z', deren Auftrittswahrscheinlichkeiten die folgende Tabelle wiedergibt.\n",
    "\n",
    "| Buchstabe  | Deutsch | Englisch | Morse-Code | Codewortlänge |\n",
    "|    ---     |   ---   |    ---   |     ---    |      ---      |\n",
    "| a\t| 6,51 % |  8,167 % | .-   | 2 |\n",
    "| b\t| 1,89 % |  1,492 % | -... | 4 |\n",
    "| c\t| 3,06 % |  2,782 % | -.-. | 4 |\n",
    "| d\t| 5,08 % |  4,325 % | -..  | 3 |\n",
    "| e\t| 17,4 % | 12,702 % | .    | 1 |\n",
    "| f\t| 1,66 % |  2,228 % | ..-. | 4 |\n",
    "| g\t| 3,01 % |  2,015 % | --.  | 3 |\n",
    "| h\t| 4,76 % |  6,094 % | .... | 4 |\n",
    "| i\t| 7,55 % |  6,996 % | ..   | 2 |\n",
    "| j\t| 0,27 % |  0,153 % | .--- | 4 |\n",
    "| k\t| 1,21 % |  0,772 % | -.-  | 3 |\n",
    "| l\t| 3,44 % |  4,025 % | .-.. | 4 |\n",
    "| m\t| 2,53 % |  2,406 % | --   | 2 |\n",
    "| n\t| 9,78 % |  6,749 % | -.   | 2 |\n",
    "| o\t| 2,51 % |  7,507 % | ---  | 3 |\n",
    "| p\t| 0,79 % |  1,929 % | .--. | 4 |\n",
    "| q\t| 0,02 % |  0,095 % | --.- | 4 |\n",
    "| r\t| 7,00 % |  5,987 % | .-.  | 3 |\n",
    "| s\t| 7,27 % |  6,327 % | ...  | 3 |\n",
    "| t\t| 6,15 % |  9,056 % | -    | 1 |\n",
    "| u\t| 4,35 % |  2,758 % | ..-  | 3 |\n",
    "| v\t| 0,67 % |  0,978 % | ...- | 4 |\n",
    "| w\t| 1,89 % |  2,360 % | .--  | 3 |\n",
    "| x\t| 0,03 % |  0,150 % | -..- | 4 |\n",
    "| y\t| 0,04 % |  1,974 % | -.-- | 4 |\n",
    "| z\t| 1,13 % |  0,074 % | --.. | 4 |\n",
    "\n",
    "Als binärer Code mit den Zeichen 'Punkt' und 'Strich' wäre der Morse-Code nicht präfixfrei, da der Buchstabe 'e' mit einem einfachen 'Punkt' codiert wird, der wiederum das Anfangszeichen anderer Buchstaben ist. Daher wird die 'Pause' als drittes Zeichen zur Trennung benötigt.\n",
    "\n",
    "Der Morse-Code weist selten vorkommenden Buchstaben lange Codeworte zu, häufig vorkommenden Buchstaben entsprechend kurze Codeworte. Hierdurch wird die Anzahl der Zeichen für einen durchschnittlichen Text minimiert."
   ]
  },
  {
   "cell_type": "markdown",
   "metadata": {},
   "source": [
    "## Berechnung von Entropie, mittlerer Wortlänge und Redundanz"
   ]
  },
  {
   "cell_type": "markdown",
   "metadata": {},
   "source": [
    "### Vorsicht bei Entropie in Bit !"
   ]
  },
  {
   "cell_type": "markdown",
   "metadata": {},
   "source": [
    "Wären alle Buchstaben gleichwahrscheinlich, betrüge die Entropie $H({\\cal X}) = \\log_2(26)$ bit. Für eine binäre Codierung wären damit $m = \\lceil H({\\cal X}) \\rceil$ Bit pro Buchstabe erforderlich."
   ]
  },
  {
   "cell_type": "code",
   "execution_count": 1,
   "metadata": {},
   "outputs": [
    {
     "name": "stdout",
     "output_type": "stream",
     "text": [
      "Bei gleichwahrscheinlichen Buchstaben würde die Entropie den Wert H(X) = 4.7 bit annehmen.\n",
      "Es würden dann m=5 bit je Symbol benötigt.\n",
      "\n",
      "Die Entropie des deutschen Alphabets beträgt 4.06 bit.\n",
      "Die mittlere Wortlänge des Morse-Codes ist für deutsche Sprache m=2.44 bit.\n",
      "\n",
      "Die Entropie des englischen Alphabets beträgt 4.18 bit.\n",
      "Die mittlere Wortlänge des Morse-Codes ist für deutsche Sprache m=2.54 bit.\n"
     ]
    }
   ],
   "source": [
    "import numpy as np\n",
    "\n",
    "# Gleichverteilung der Buchstaben\n",
    "entropy_uniform = np.log2(26)\n",
    "bit_letter = np.ceil(entropy_uniform)\n",
    "\n",
    "print(\"Bei gleichwahrscheinlichen Buchstaben würde die Entropie den Wert H(X) = %1.1f bit annehmen.\" %(entropy_uniform))\n",
    "print(\"Es würden dann m=%g bit je Symbol benötigt.\\n\" %(bit_letter))\n",
    "\n",
    "# Auftrittswahrscheinlichkeiten der Buchstaben für deutsche und englische Sprache\n",
    "prob_german = np.array([0.0651, 0.0189, 0.0306, 0.0508, 0.174, 0.0166, 0.0301, 0.0476, 0.0755, 0.0027, 0.0121, 0.0344, 0.0253, 0.0978, 0.0251, 0.0079, 0.0002, 0.07, 0.0727, 0.0615, 0.0435, 0.0067, 0.0189, 0.0003, 0.0004, 0.0113])\n",
    "prob_english = np.array([0.08168, 0.01492, 0.02782, 0.04253, 0.12702, 0.02228, 0.02015, 0.06094, 0.06966, 0.00153, 0.00772, 0.04025, 0.02406, 0.06749, 0.07507, 0.01929, 0.00095, 0.05987, 0.06327, 0.09056, 0.02758, 0.00978, 0.0236, 0.0015, 0.01974, 0.00074])\n",
    "\n",
    "# Wortlängen des Morse-Codes\n",
    "m_Morse = np.array([2,4,4,3,1,4,3,4,2,4,3,4,2,2,3,4,4,3,3,1,3,4,3,4,4,4])\n",
    "\n",
    "entropy_german =- prob_german @ np.transpose(np.log2(prob_german))\n",
    "m_mean_german = m_Morse @ np.transpose(prob_german)\n",
    "print(\"Die Entropie des deutschen Alphabets beträgt %1.2f bit.\" %(entropy_german))\n",
    "print(\"Die mittlere Wortlänge des Morse-Codes ist für deutsche Sprache m=%1.2f bit.\\n\" %(m_mean_german))\n",
    "\n",
    "entropy_english =- prob_english @ np.transpose(np.log2(prob_english))\n",
    "m_mean_english = m_Morse @ np.transpose(prob_english)\n",
    "print(\"Die Entropie des englischen Alphabets beträgt %1.2f bit.\" %(entropy_english))\n",
    "print(\"Die mittlere Wortlänge des Morse-Codes ist für deutsche Sprache m=%1.2f bit.\" %(m_mean_english))"
   ]
  },
  {
   "cell_type": "markdown",
   "metadata": {},
   "source": [
    "Zunächst ist zu erkennen, dass die ungleichen Auftrittswahrscheinlichkeiten der Buchstaben die Entropie gegenüber gleichwahrscheinlichen Buchstaben signifikant von 4.7 bit auf etwa 4.1 bit erduzieren. Allerdings steht diese Entropie im Widerspruch zu den berechneten Wortlängen, da ein verlustfreier Code keine mittlere Wortlänge unter der Entropie haben kann. Der Grund dafür liegt darin, dass der Morse-Code ein ternärer Code ist, das 'Pause'-Zeichen bei der mittleren Wortlänge aber bisher nicht berücksichtigt wurde."
   ]
  },
  {
   "cell_type": "markdown",
   "metadata": {},
   "source": [
    "### Der Morse-Code ist ein ternärer Code !"
   ]
  },
  {
   "cell_type": "markdown",
   "metadata": {},
   "source": [
    "Da der Morse-Code bei ausschließlicher Verwendung von 'Punkt' und 'Strich' kein präfix-freier Code ist, werden wie bereits erwähnt die Pausen zur Trennung der Buchstaben benötigt. Damit würden sich die Codewortlängen der Buchstaben der obigen Tabelle jeweils um das Zeichen 'Pause' erhöhen, die mittleren Wortlängen erhöhen sich damit auch um ein Zeichen. Um diese mittlere Wortlänge (in ternären Zeichen) nun mit der Entropie vergleichen zu können, ist diese nicht mehr in bit, sondern ebenfalls in ternären Zeichen anzugeben. Hierzu ist zum einen die 'Pause' als drittes Zeichen mit einer Auftrittswahrscheinlichkeit von 50% einzufügen, die Auftrittswahrscheinlichkeiten der normalen Buchstaben halbieren sich entsprechend. Zum anderen ist der Logarithmus zur Basis drei zu verwenden."
   ]
  },
  {
   "cell_type": "code",
   "execution_count": 2,
   "metadata": {},
   "outputs": [
    {
     "name": "stdout",
     "output_type": "stream",
     "text": [
      "Die Entropie des deutschen Alphabets beträgt 2.56 ternäre Zeichen.\n",
      "Die mittlere Wortlänge des Morse-Codes mit Pause für jedes Zeichen beträgt 3.44 ternäre Zeichen.\n",
      "Der Morse-Code besitzt damit eine Redundanz von 25.55%.\n",
      "\n",
      "Die Entropie des englischen Alphabets beträgt 2.63 ternäre Zeichen.\n",
      "Die mittlere Wortlänge des Morse-Codes mit Pause für jedes Zeichen beträgt 3.54 ternäre Zeichen.\n",
      "Der Morse-Code besitzt damit eine Redundanz von 25.61%.\n",
      "\n"
     ]
    }
   ],
   "source": [
    "# Berücksichtigung der Pause im Morse-Alphabet \n",
    "m_Morse_ternary = m_Morse + 1\n",
    "# mittlere Wortlängen für deutsche und englische Sprache\n",
    "m_mean_german_ternary = m_Morse_ternary @ np.transpose(prob_german)\n",
    "m_mean_english_ternary = m_Morse_ternary @ np.transpose(prob_english)\n",
    "\n",
    "entropy_german_ternary = entropy_german / np.log2(3.0)\n",
    "entropy_english_ternary = entropy_english / np.log2(3.0)\n",
    "\n",
    "# relative Redundanz des Morse-Codes\n",
    "redundancy_german_ternary = (m_mean_german_ternary-entropy_german_ternary) / m_mean_german_ternary\n",
    "redundancy_english_ternary = (m_mean_english_ternary-entropy_english_ternary) / m_mean_english_ternary\n",
    "\n",
    "print(\"Die Entropie des deutschen Alphabets beträgt %1.2f ternäre Zeichen.\" %(entropy_german_ternary))\n",
    "print(\"Die mittlere Wortlänge des Morse-Codes mit Pause für jedes Zeichen beträgt %1.2f ternäre Zeichen.\" %(m_mean_german_ternary))\n",
    "print(\"Der Morse-Code besitzt damit eine Redundanz von %1.2f%%.\\n\" %(redundancy_german_ternary*100))\n",
    "\n",
    "print(\"Die Entropie des englischen Alphabets beträgt %1.2f ternäre Zeichen.\" %(entropy_english_ternary))\n",
    "print(\"Die mittlere Wortlänge des Morse-Codes mit Pause für jedes Zeichen beträgt %1.2f ternäre Zeichen.\" %(m_mean_english_ternary))\n",
    "print(\"Der Morse-Code besitzt damit eine Redundanz von %1.2f%%.\\n\" %(redundancy_english_ternary*100))\n"
   ]
  }
 ],
 "metadata": {
  "kernelspec": {
   "display_name": "Python 3",
   "language": "python",
   "name": "python3"
  },
  "language_info": {
   "codemirror_mode": {
    "name": "ipython",
    "version": 3
   },
   "file_extension": ".py",
   "mimetype": "text/x-python",
   "name": "python",
   "nbconvert_exporter": "python",
   "pygments_lexer": "ipython3",
   "version": "3.6.13"
  }
 },
 "nbformat": 4,
 "nbformat_minor": 2
}
