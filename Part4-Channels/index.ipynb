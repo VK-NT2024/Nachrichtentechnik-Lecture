{
 "cells": [
  {
   "cell_type": "markdown",
   "metadata": {
    "nbsphinx": "hidden"
   },
   "source": [
    "# Kanalmodelle\n",
    "\n",
    "Dieses Verzeichnis enthält [jupyter](https://jupyter.org/)-Notebooks für Kanalmodelle der Signaltheorie und der Informationstheorie. Es werden grundlegende Betrachtungen zur Informationstheorie behandelt.\n",
    "\n",
    "## Modelle der Signaltheorie\n",
    "\n",
    "1. [Vier Jahreszeiten](NT-ChannelsSeasonsTemperature.ipynb)\n",
    "2. [Corona](NT-Corona.ipynb)\n",
    "3. [Rauschen](NT-ChannelsNoise.ipynb)\n",
    "4. [Likelihood-Funktion und A-Posteriori-Wahrscheinlichkeiten](NT-AWGNCondProbs.ipynb)\n",
    "5. [Zweiwegekanal](NT-Channels2Way.ipynb)\n",
    "\n",
    "## Modelle der Informationstheorie \n",
    "\n",
    "1. [Kapazität des BSC-Kanals](NT-ChannelsCapacityBSC.ipynb)\n",
    "2. [Kapazität des BSEC-Kanals](NT-ChannelsCapacityBSEC.ipynb)\n",
    "3. [Differentielle Entropie](NT-ChannelsDifferentialEntropie.ipynb)\n",
    "4. [Kapazität des AWGN-Kanals](NT-ChannelsCapacityAWGN.ipynb)\n",
    "5. [Transinformation des AWGN-Kanals](NT-AWGN_MutualInformation.ipynb)\n",
    "6. [Fehlerwahrscheinlichkeiten und Transinformation](NT-ErrorRateMutualInformation.ipynb)\n"
   ]
  },
  {
   "cell_type": "markdown",
   "metadata": {},
   "source": [
    "**Copyright**\n",
    "\n",
    "The notebooks are provided as [Open Educational Resources](https://en.wikipedia.org/wiki/Open_educational_resources). Feel free to use the notebooks for your own purposes. The text is licensed under [Creative Commons Attribution 4.0](https://creativecommons.org/licenses/by/4.0/), the code of the IPython examples under the [MIT license](https://opensource.org/licenses/MIT). Please attribute the work as follows: *Sascha Spors, Digital Signal Processing - Lecture notes featuring computational examples*."
   ]
  }
 ],
 "metadata": {
  "anaconda-cloud": {},
  "kernelspec": {
   "display_name": "Python 3 (ipykernel)",
   "language": "python",
   "name": "python3"
  },
  "language_info": {
   "codemirror_mode": {
    "name": "ipython",
    "version": 3
   },
   "file_extension": ".py",
   "mimetype": "text/x-python",
   "name": "python",
   "nbconvert_exporter": "python",
   "pygments_lexer": "ipython3",
   "version": "3.9.17"
  }
 },
 "nbformat": 4,
 "nbformat_minor": 4
}
