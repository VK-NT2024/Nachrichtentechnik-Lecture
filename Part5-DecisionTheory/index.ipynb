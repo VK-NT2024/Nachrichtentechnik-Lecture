{
 "cells": [
  {
   "cell_type": "markdown",
   "metadata": {
    "nbsphinx": "hidden"
   },
   "source": [
    "# Entscheidungstheorie\n",
    "\n",
    "Dieses Verzeichnis enthält [jupyter](https://jupyter.org/)-Notebooks für die Einführung der Entscheidungstheorie mit Matched-Filterung und Fehlerwahrscheinlichkeiten.\n",
    "\n",
    "1. [MAP-Detektion](NT-BayesOptimalDetection.ipynb)\n",
    "2. [Matched-Filter](NT-matched-filter.ipynb)\n",
    "3. [Analytische Fehlerwahrscheinlichkeiten digitaler Modulationsverfahren](NT-AnalyticalErrorRates.ipynb)\n",
    "4. [Fehlerwahrscheinlichkeit und Transinformation](NT-ErrorRate_MutualInformation.ipynb)\n",
    "5. [ASK-Übertragung](NT-PerformanceASK.ipynb)\n",
    "6. [QAM-Übertragung](NT-PerformanceQAM.ipynb)\n",
    "7. [PSK-Übertragung](NT-PerformancePSK.ipynb)\n",
    " "
   ]
  },
  {
   "cell_type": "markdown",
   "metadata": {},
   "source": [
    "**Copyright**\n",
    "\n",
    "The notebooks are provided as [Open Educational Resources](https://en.wikipedia.org/wiki/Open_educational_resources). Feel free to use the notebooks for your own purposes. The text is licensed under [Creative Commons Attribution 4.0](https://creativecommons.org/licenses/by/4.0/), the code of the IPython examples under the [MIT license](https://opensource.org/licenses/MIT). Please attribute the work as follows: *Sascha Spors, Digital Signal Processing - Lecture notes featuring computational examples*."
   ]
  }
 ],
 "metadata": {
  "anaconda-cloud": {},
  "kernelspec": {
   "display_name": "Python 3 (ipykernel)",
   "language": "python",
   "name": "python3"
  },
  "language_info": {
   "codemirror_mode": {
    "name": "ipython",
    "version": 3
   },
   "file_extension": ".py",
   "mimetype": "text/x-python",
   "name": "python",
   "nbconvert_exporter": "python",
   "pygments_lexer": "ipython3",
   "version": "3.9.18"
  }
 },
 "nbformat": 4,
 "nbformat_minor": 4
}
