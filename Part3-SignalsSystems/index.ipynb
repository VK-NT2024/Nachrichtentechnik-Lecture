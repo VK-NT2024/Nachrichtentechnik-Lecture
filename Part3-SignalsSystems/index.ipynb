{
 "cells": [
  {
   "cell_type": "markdown",
   "metadata": {
    "nbsphinx": "hidden"
   },
   "source": [
    "# Signale und Systeme (Modulationsverfahren)\n",
    "\n",
    "Dieses Verzeichnis enthält [jupyter](https://jupyter.org/)-Notebooks für die Abtastung analoger Signals und die Einführung analoger und digitaler Modulationsverfahren\n"
   ]
  },
  {
   "cell_type": "markdown",
   "source": [
    "## Analoge Signale\n",
    "\n",
    "1. [Abtastung](NT-sampling.ipynb)\n",
    "2. [Zweiseitenbandmodulation](NT-anaModZSB.ipynb)\n",
    "3. [Einseitenbandmodulation](NT-anaModESB.ipynb)\n",
    "4. [Hilbert-Transformation](NT-HilbertTransform.ipynb)\n",
    "5. [Frequenzmodulation](NT-anaModFM.ipynb)\n",
    "6. [Frequenzmodulation](NT-anaModFMbessel.ipynb)\n",
    "\n"
   ],
   "metadata": {
    "collapsed": false
   }
  },
  {
   "cell_type": "markdown",
   "source": [
    "## Digitale Signale\n",
    "\n",
    "1. [Signalräume und Mapping](NT-DigMod.ipynb)\n",
    "2. [Amplitude Shift Keying (ASK)](NT-DigModASK.ipynb)\n",
    "3. [Quadrature Amplitude Modulation (QAM)](NT-DigModQAM.ipynb)\n",
    "4. [Phase Shift Keying (PSK)](NT-DigModPSK.ipynb)\n",
    "5. [Augendiagramme für BPSK](NT-AugeBPSK.ipynb)\n",
    "6. [Augendiagramme für QPSK](NT-AugeQPSK.ipynb)\n",
    "7. [Frequency Shift Keying (FSK)](NT-DigModFSK.ipynb)\n",
    "\n",
    " "
   ],
   "metadata": {
    "collapsed": false
   }
  },
  {
   "cell_type": "markdown",
   "metadata": {},
   "source": [
    "\n",
    "**Copyright**\n",
    "\n",
    "The notebooks are provided as [Open Educational Resources](https://en.wikipedia.org/wiki/Open_educational_resources). Feel free to use the notebooks for your own purposes. The text is licensed under [Creative Commons Attribution 4.0](https://creativecommons.org/licenses/by/4.0/), the code of the IPython examples under the [MIT license](https://opensource.org/licenses/MIT). Please attribute the work as follows: *Sascha Spors, Digital Signal Processing - Lecture notes featuring computational examples*."
   ]
  }
 ],
 "metadata": {
  "anaconda-cloud": {},
  "kernelspec": {
   "display_name": "Python 3 (ipykernel)",
   "language": "python",
   "name": "python3"
  },
  "language_info": {
   "codemirror_mode": {
    "name": "ipython",
    "version": 3
   },
   "file_extension": ".py",
   "mimetype": "text/x-python",
   "name": "python",
   "nbconvert_exporter": "python",
   "pygments_lexer": "ipython3",
   "version": "3.9.18"
  }
 },
 "nbformat": 4,
 "nbformat_minor": 4
}
